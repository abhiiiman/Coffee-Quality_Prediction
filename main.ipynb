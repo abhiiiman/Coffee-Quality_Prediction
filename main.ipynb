{
 "cells": [
  {
   "cell_type": "code",
   "execution_count": 50,
   "metadata": {},
   "outputs": [],
   "source": [
    "import numpy as np \n",
    "import pandas as pd \n",
    "import seaborn as sns\n",
    "import matplotlib.pyplot as plt\n",
    "from imblearn.over_sampling import SMOTE\n",
    "from sklearn.model_selection import train_test_split\n",
    "from sklearn.metrics import classification_report\n",
    "from sklearn.metrics import confusion_matrix,ConfusionMatrixDisplay\n",
    "from sklearn.ensemble import RandomForestClassifier\n",
    "from sklearn.metrics import classification_report\n",
    "\n",
    "import warnings\n",
    "warnings.filterwarnings('ignore')"
   ]
  },
  {
   "cell_type": "code",
   "execution_count": 51,
   "metadata": {},
   "outputs": [
    {
     "data": {
      "text/html": [
       "<div>\n",
       "<style scoped>\n",
       "    .dataframe tbody tr th:only-of-type {\n",
       "        vertical-align: middle;\n",
       "    }\n",
       "\n",
       "    .dataframe tbody tr th {\n",
       "        vertical-align: top;\n",
       "    }\n",
       "\n",
       "    .dataframe thead th {\n",
       "        text-align: right;\n",
       "    }\n",
       "</style>\n",
       "<table border=\"1\" class=\"dataframe\">\n",
       "  <thead>\n",
       "    <tr style=\"text-align: right;\">\n",
       "      <th></th>\n",
       "      <th>Unnamed: 0</th>\n",
       "      <th>ID</th>\n",
       "      <th>Country of Origin</th>\n",
       "      <th>Farm Name</th>\n",
       "      <th>Lot Number</th>\n",
       "      <th>Mill</th>\n",
       "      <th>ICO Number</th>\n",
       "      <th>Company</th>\n",
       "      <th>Altitude</th>\n",
       "      <th>Region</th>\n",
       "      <th>...</th>\n",
       "      <th>Total Cup Points</th>\n",
       "      <th>Moisture Percentage</th>\n",
       "      <th>Category One Defects</th>\n",
       "      <th>Quakers</th>\n",
       "      <th>Color</th>\n",
       "      <th>Category Two Defects</th>\n",
       "      <th>Expiration</th>\n",
       "      <th>Certification Body</th>\n",
       "      <th>Certification Address</th>\n",
       "      <th>Certification Contact</th>\n",
       "    </tr>\n",
       "  </thead>\n",
       "  <tbody>\n",
       "    <tr>\n",
       "      <th>0</th>\n",
       "      <td>0</td>\n",
       "      <td>0</td>\n",
       "      <td>Colombia</td>\n",
       "      <td>Finca El Paraiso</td>\n",
       "      <td>CQU2022015</td>\n",
       "      <td>Finca El Paraiso</td>\n",
       "      <td>NaN</td>\n",
       "      <td>Coffee Quality Union</td>\n",
       "      <td>1700-1930</td>\n",
       "      <td>Piendamo,Cauca</td>\n",
       "      <td>...</td>\n",
       "      <td>89.33</td>\n",
       "      <td>11.8</td>\n",
       "      <td>0</td>\n",
       "      <td>0</td>\n",
       "      <td>green</td>\n",
       "      <td>3</td>\n",
       "      <td>September 21st, 2023</td>\n",
       "      <td>Japan Coffee Exchange</td>\n",
       "      <td>〒413-0002 静岡県熱海市伊豆山１１７３−５８ 1173-58 Izusan, Ata...</td>\n",
       "      <td>松澤　宏樹　Koju Matsuzawa - +81(0)9085642901</td>\n",
       "    </tr>\n",
       "    <tr>\n",
       "      <th>1</th>\n",
       "      <td>1</td>\n",
       "      <td>1</td>\n",
       "      <td>Taiwan</td>\n",
       "      <td>Royal Bean Geisha Estate</td>\n",
       "      <td>The 2022 Pacific Rim Coffee Summit,T037</td>\n",
       "      <td>Royal Bean Geisha Estate</td>\n",
       "      <td>NaN</td>\n",
       "      <td>Taiwan Coffee Laboratory</td>\n",
       "      <td>1200</td>\n",
       "      <td>Chiayi</td>\n",
       "      <td>...</td>\n",
       "      <td>87.58</td>\n",
       "      <td>10.5</td>\n",
       "      <td>0</td>\n",
       "      <td>0</td>\n",
       "      <td>blue-green</td>\n",
       "      <td>0</td>\n",
       "      <td>November 15th, 2023</td>\n",
       "      <td>Taiwan Coffee Laboratory 台灣咖啡研究室</td>\n",
       "      <td>QAHWAH CO., LTD 4F, No. 225, Sec. 3, Beixin Rd...</td>\n",
       "      <td>Lin, Jen-An Neil 林仁安 - 886-289116612</td>\n",
       "    </tr>\n",
       "  </tbody>\n",
       "</table>\n",
       "<p>2 rows × 41 columns</p>\n",
       "</div>"
      ],
      "text/plain": [
       "   Unnamed: 0  ID Country of Origin                 Farm Name  \\\n",
       "0           0   0          Colombia          Finca El Paraiso   \n",
       "1           1   1            Taiwan  Royal Bean Geisha Estate   \n",
       "\n",
       "                                Lot Number                      Mill  \\\n",
       "0                               CQU2022015          Finca El Paraiso   \n",
       "1  The 2022 Pacific Rim Coffee Summit,T037  Royal Bean Geisha Estate   \n",
       "\n",
       "  ICO Number                   Company   Altitude          Region  ...  \\\n",
       "0        NaN      Coffee Quality Union  1700-1930  Piendamo,Cauca  ...   \n",
       "1        NaN  Taiwan Coffee Laboratory       1200          Chiayi  ...   \n",
       "\n",
       "  Total Cup Points  Moisture Percentage Category One Defects Quakers  \\\n",
       "0            89.33                 11.8                    0       0   \n",
       "1            87.58                 10.5                    0       0   \n",
       "\n",
       "        Color Category Two Defects            Expiration  \\\n",
       "0       green                    3  September 21st, 2023   \n",
       "1  blue-green                    0   November 15th, 2023   \n",
       "\n",
       "                 Certification Body  \\\n",
       "0             Japan Coffee Exchange   \n",
       "1  Taiwan Coffee Laboratory 台灣咖啡研究室   \n",
       "\n",
       "                               Certification Address  \\\n",
       "0  〒413-0002 静岡県熱海市伊豆山１１７３−５８ 1173-58 Izusan, Ata...   \n",
       "1  QAHWAH CO., LTD 4F, No. 225, Sec. 3, Beixin Rd...   \n",
       "\n",
       "                     Certification Contact  \n",
       "0  松澤　宏樹　Koju Matsuzawa - +81(0)9085642901  \n",
       "1     Lin, Jen-An Neil 林仁安 - 886-289116612  \n",
       "\n",
       "[2 rows x 41 columns]"
      ]
     },
     "execution_count": 51,
     "metadata": {},
     "output_type": "execute_result"
    }
   ],
   "source": [
    "df = pd.read_csv(\"df_arabica_clean (1).csv\")\n",
    "data = df.copy()\n",
    "data.head(2)\n",
    "# data.columns"
   ]
  },
  {
   "cell_type": "code",
   "execution_count": 52,
   "metadata": {},
   "outputs": [
    {
     "data": {
      "text/plain": [
       "array(['Castillo', 'Gesha', 'Java', 'Red Bourbon', 'Sl34+Gesha', 'SL34',\n",
       "       'Bourbon', 'Ethiopian Heirlooms', 'Caturra',\n",
       "       'Wolishalo,Kurume,Dega', 'Typica', 'Catimor',\n",
       "       'Castillo Paraguaycito', nan, 'SL28', 'SL14', 'Catuai',\n",
       "       'Yellow Bourbon', 'Catrenic', 'unknown', 'Pacamara',\n",
       "       'Castillo and Colombia blend', 'Jember,TIM-TIM,Ateng',\n",
       "       'BOURBON, CATURRA Y CATIMOR', 'Bourbon Sidra', 'Sarchimor',\n",
       "       'Catimor,Catuai,Caturra,Bourbon', 'Parainema', 'SHG',\n",
       "       'Typica + SL34',\n",
       "       'MARSELLESA, CATUAI, CATURRA & MARSELLESA, ANACAFE 14, CATUAI',\n",
       "       'Mundo Novo', 'Red Bourbon,Caturra', 'Lempira', 'Typica Gesha',\n",
       "       'Gayo', 'Bourbon, Catimor, Caturra, Typica', 'unknow',\n",
       "       'Maragogype', 'Caturra-Catuai', 'SL28,SL34,Ruiru11',\n",
       "       'Yellow Catuai', 'Catucai', 'Santander',\n",
       "       'Typica Bourbon Caturra Catimor', 'Caturra,Colombia,Castillo',\n",
       "       'Castillo,Caturra,Bourbon', 'Pacas', 'Catuai and Mundo Novo'],\n",
       "      dtype=object)"
      ]
     },
     "execution_count": 52,
     "metadata": {},
     "output_type": "execute_result"
    }
   ],
   "source": [
    "data['Variety'].unique()"
   ]
  },
  {
   "cell_type": "code",
   "execution_count": 53,
   "metadata": {},
   "outputs": [
    {
     "data": {
      "text/html": [
       "<div>\n",
       "<style scoped>\n",
       "    .dataframe tbody tr th:only-of-type {\n",
       "        vertical-align: middle;\n",
       "    }\n",
       "\n",
       "    .dataframe tbody tr th {\n",
       "        vertical-align: top;\n",
       "    }\n",
       "\n",
       "    .dataframe thead th {\n",
       "        text-align: right;\n",
       "    }\n",
       "</style>\n",
       "<table border=\"1\" class=\"dataframe\">\n",
       "  <thead>\n",
       "    <tr style=\"text-align: right;\">\n",
       "      <th></th>\n",
       "      <th>Aroma</th>\n",
       "      <th>Flavor</th>\n",
       "      <th>Aftertaste</th>\n",
       "      <th>Acidity</th>\n",
       "      <th>Body</th>\n",
       "      <th>Balance</th>\n",
       "      <th>Uniformity</th>\n",
       "      <th>Overall</th>\n",
       "      <th>Moisture Percentage</th>\n",
       "      <th>Category Two Defects</th>\n",
       "      <th>Quakers</th>\n",
       "    </tr>\n",
       "  </thead>\n",
       "  <tbody>\n",
       "    <tr>\n",
       "      <th>count</th>\n",
       "      <td>207.000000</td>\n",
       "      <td>207.000000</td>\n",
       "      <td>207.000000</td>\n",
       "      <td>207.00000</td>\n",
       "      <td>207.000000</td>\n",
       "      <td>207.000000</td>\n",
       "      <td>207.000000</td>\n",
       "      <td>207.000000</td>\n",
       "      <td>207.000000</td>\n",
       "      <td>207.000000</td>\n",
       "      <td>207.000000</td>\n",
       "    </tr>\n",
       "    <tr>\n",
       "      <th>mean</th>\n",
       "      <td>7.721063</td>\n",
       "      <td>7.744734</td>\n",
       "      <td>7.599758</td>\n",
       "      <td>7.69029</td>\n",
       "      <td>7.640918</td>\n",
       "      <td>7.644058</td>\n",
       "      <td>9.990338</td>\n",
       "      <td>7.676812</td>\n",
       "      <td>10.735266</td>\n",
       "      <td>2.251208</td>\n",
       "      <td>0.690821</td>\n",
       "    </tr>\n",
       "    <tr>\n",
       "      <th>std</th>\n",
       "      <td>0.287626</td>\n",
       "      <td>0.279613</td>\n",
       "      <td>0.275911</td>\n",
       "      <td>0.25951</td>\n",
       "      <td>0.233499</td>\n",
       "      <td>0.256299</td>\n",
       "      <td>0.103306</td>\n",
       "      <td>0.306359</td>\n",
       "      <td>1.247468</td>\n",
       "      <td>2.950183</td>\n",
       "      <td>1.686918</td>\n",
       "    </tr>\n",
       "    <tr>\n",
       "      <th>min</th>\n",
       "      <td>6.500000</td>\n",
       "      <td>6.750000</td>\n",
       "      <td>6.670000</td>\n",
       "      <td>6.83000</td>\n",
       "      <td>6.830000</td>\n",
       "      <td>6.670000</td>\n",
       "      <td>8.670000</td>\n",
       "      <td>6.670000</td>\n",
       "      <td>0.000000</td>\n",
       "      <td>0.000000</td>\n",
       "      <td>0.000000</td>\n",
       "    </tr>\n",
       "    <tr>\n",
       "      <th>25%</th>\n",
       "      <td>7.580000</td>\n",
       "      <td>7.580000</td>\n",
       "      <td>7.420000</td>\n",
       "      <td>7.50000</td>\n",
       "      <td>7.500000</td>\n",
       "      <td>7.500000</td>\n",
       "      <td>10.000000</td>\n",
       "      <td>7.500000</td>\n",
       "      <td>10.100000</td>\n",
       "      <td>0.000000</td>\n",
       "      <td>0.000000</td>\n",
       "    </tr>\n",
       "    <tr>\n",
       "      <th>50%</th>\n",
       "      <td>7.670000</td>\n",
       "      <td>7.750000</td>\n",
       "      <td>7.580000</td>\n",
       "      <td>7.67000</td>\n",
       "      <td>7.670000</td>\n",
       "      <td>7.670000</td>\n",
       "      <td>10.000000</td>\n",
       "      <td>7.670000</td>\n",
       "      <td>10.800000</td>\n",
       "      <td>1.000000</td>\n",
       "      <td>0.000000</td>\n",
       "    </tr>\n",
       "    <tr>\n",
       "      <th>75%</th>\n",
       "      <td>7.920000</td>\n",
       "      <td>7.920000</td>\n",
       "      <td>7.750000</td>\n",
       "      <td>7.87500</td>\n",
       "      <td>7.750000</td>\n",
       "      <td>7.790000</td>\n",
       "      <td>10.000000</td>\n",
       "      <td>7.920000</td>\n",
       "      <td>11.500000</td>\n",
       "      <td>3.000000</td>\n",
       "      <td>1.000000</td>\n",
       "    </tr>\n",
       "    <tr>\n",
       "      <th>max</th>\n",
       "      <td>8.580000</td>\n",
       "      <td>8.500000</td>\n",
       "      <td>8.420000</td>\n",
       "      <td>8.58000</td>\n",
       "      <td>8.250000</td>\n",
       "      <td>8.420000</td>\n",
       "      <td>10.000000</td>\n",
       "      <td>8.580000</td>\n",
       "      <td>13.500000</td>\n",
       "      <td>16.000000</td>\n",
       "      <td>12.000000</td>\n",
       "    </tr>\n",
       "  </tbody>\n",
       "</table>\n",
       "</div>"
      ],
      "text/plain": [
       "            Aroma      Flavor  Aftertaste    Acidity        Body     Balance  \\\n",
       "count  207.000000  207.000000  207.000000  207.00000  207.000000  207.000000   \n",
       "mean     7.721063    7.744734    7.599758    7.69029    7.640918    7.644058   \n",
       "std      0.287626    0.279613    0.275911    0.25951    0.233499    0.256299   \n",
       "min      6.500000    6.750000    6.670000    6.83000    6.830000    6.670000   \n",
       "25%      7.580000    7.580000    7.420000    7.50000    7.500000    7.500000   \n",
       "50%      7.670000    7.750000    7.580000    7.67000    7.670000    7.670000   \n",
       "75%      7.920000    7.920000    7.750000    7.87500    7.750000    7.790000   \n",
       "max      8.580000    8.500000    8.420000    8.58000    8.250000    8.420000   \n",
       "\n",
       "       Uniformity     Overall  Moisture Percentage  Category Two Defects  \\\n",
       "count  207.000000  207.000000           207.000000            207.000000   \n",
       "mean     9.990338    7.676812            10.735266              2.251208   \n",
       "std      0.103306    0.306359             1.247468              2.950183   \n",
       "min      8.670000    6.670000             0.000000              0.000000   \n",
       "25%     10.000000    7.500000            10.100000              0.000000   \n",
       "50%     10.000000    7.670000            10.800000              1.000000   \n",
       "75%     10.000000    7.920000            11.500000              3.000000   \n",
       "max     10.000000    8.580000            13.500000             16.000000   \n",
       "\n",
       "          Quakers  \n",
       "count  207.000000  \n",
       "mean     0.690821  \n",
       "std      1.686918  \n",
       "min      0.000000  \n",
       "25%      0.000000  \n",
       "50%      0.000000  \n",
       "75%      1.000000  \n",
       "max     12.000000  "
      ]
     },
     "execution_count": 53,
     "metadata": {},
     "output_type": "execute_result"
    }
   ],
   "source": [
    "data = data[['Country of Origin', 'Altitude', 'Region',\n",
    "       'Variety', 'Processing Method',\n",
    "       'Aroma', 'Flavor', 'Aftertaste', 'Acidity', 'Body', 'Balance',\n",
    "       'Uniformity', 'Overall',\n",
    "       'Moisture Percentage', 'Category Two Defects',\n",
    "       'Quakers', 'Color']]\n",
    "# print(data.shape)\n",
    "# data.nunique()\n",
    "data.describe()"
   ]
  },
  {
   "cell_type": "code",
   "execution_count": 54,
   "metadata": {},
   "outputs": [
    {
     "data": {
      "text/plain": [
       "array(['Colombia', 'Taiwan', 'Laos', 'Costa Rica', 'Guatemala',\n",
       "       'Tanzania, United Republic Of', 'Ethiopia', 'Thailand', 'Brazil',\n",
       "       'United States (Hawaii)', 'Kenya', 'Uganda', 'Indonesia', 'Peru',\n",
       "       'Panama', 'Nicaragua', 'Vietnam', 'Honduras', 'El Salvador',\n",
       "       'Madagascar', 'Mexico', 'Myanmar'], dtype=object)"
      ]
     },
     "execution_count": 54,
     "metadata": {},
     "output_type": "execute_result"
    }
   ],
   "source": [
    "data['Country of Origin'].unique()"
   ]
  },
  {
   "cell_type": "code",
   "execution_count": 55,
   "metadata": {},
   "outputs": [],
   "source": [
    "Country_of_Origin_Dict = dict(zip(pd.Series(data['Country of Origin'].unique()),pd.Series([i for i in range(data['Country of Origin'].nunique())]) ))\n",
    "Altitude_Dict = dict(zip(pd.Series(data['Altitude'].unique()),pd.Series([i for i in range(data['Altitude'].nunique())]) ))\n",
    "Region_Dict = dict(zip(pd.Series(data['Region'].unique()),pd.Series([i for i in range(data['Region'].nunique())]) ))\n",
    "Variety_Dict = dict(zip(pd.Series(data['Variety'].unique()),pd.Series([i for i in range(data['Variety'].nunique())]) ))\n",
    "Processing_Method_Dict = dict(zip(pd.Series(data['Processing Method'].unique()),pd.Series([i for i in range(data['Processing Method'].nunique())]) ))\n",
    "Color_Dict = dict(zip(pd.Series(data['Color'].unique()),pd.Series([i for i in range(data['Color'].nunique())]) ))\n",
    "\n",
    "\n",
    "data['Country of Origin Label'] = data['Country of Origin'].map(Country_of_Origin_Dict)\n",
    "data['Altitude Label']=data['Altitude'].map(Altitude_Dict)\n",
    "data['Region Label'] =data['Region'].map(Region_Dict)\n",
    "data['Variety Label']=data['Variety'].map(Variety_Dict)\n",
    "data['Processing Method Label']=data['Processing Method'].map(Processing_Method_Dict)\n",
    "data['Color Label']= data['Color'].map(Color_Dict)\n",
    "\n",
    "\n",
    "data.drop(['Country of Origin','Altitude','Region','Variety','Processing Method','Color'], axis =1 ,inplace = True)"
   ]
  },
  {
   "cell_type": "code",
   "execution_count": 56,
   "metadata": {},
   "outputs": [
    {
     "data": {
      "text/plain": [
       "Aroma                      0\n",
       "Flavor                     0\n",
       "Aftertaste                 0\n",
       "Acidity                    0\n",
       "Body                       0\n",
       "Balance                    0\n",
       "Uniformity                 0\n",
       "Overall                    0\n",
       "Moisture Percentage        0\n",
       "Category Two Defects       0\n",
       "Quakers                    0\n",
       "Country of Origin Label    0\n",
       "Altitude Label             1\n",
       "Region Label               1\n",
       "Variety Label              1\n",
       "Processing Method Label    1\n",
       "Color Label                0\n",
       "dtype: int64"
      ]
     },
     "execution_count": 56,
     "metadata": {},
     "output_type": "execute_result"
    }
   ],
   "source": [
    "data.isna().sum()"
   ]
  },
  {
   "cell_type": "code",
   "execution_count": 57,
   "metadata": {},
   "outputs": [],
   "source": [
    "data.dropna(inplace = True)"
   ]
  },
  {
   "cell_type": "code",
   "execution_count": 58,
   "metadata": {},
   "outputs": [
    {
     "data": {
      "text/plain": [
       "Aroma                      0\n",
       "Flavor                     0\n",
       "Aftertaste                 0\n",
       "Acidity                    0\n",
       "Body                       0\n",
       "Balance                    0\n",
       "Uniformity                 0\n",
       "Overall                    0\n",
       "Moisture Percentage        0\n",
       "Category Two Defects       0\n",
       "Quakers                    0\n",
       "Country of Origin Label    0\n",
       "Altitude Label             0\n",
       "Region Label               0\n",
       "Variety Label              0\n",
       "Processing Method Label    0\n",
       "Color Label                0\n",
       "dtype: int64"
      ]
     },
     "execution_count": 58,
     "metadata": {},
     "output_type": "execute_result"
    }
   ],
   "source": [
    "data.isna().sum()"
   ]
  },
  {
   "cell_type": "code",
   "execution_count": 59,
   "metadata": {},
   "outputs": [],
   "source": [
    "X = df.drop(['Category Two Defects'], axis =1)\n",
    "y = df['Category Two Defects']"
   ]
  },
  {
   "cell_type": "code",
   "execution_count": 60,
   "metadata": {},
   "outputs": [
    {
     "data": {
      "text/plain": [
       "Category Two Defects\n",
       "0     74\n",
       "2     37\n",
       "1     34\n",
       "3     16\n",
       "5     13\n",
       "4     13\n",
       "7      5\n",
       "8      4\n",
       "12     3\n",
       "11     3\n",
       "9      2\n",
       "16     1\n",
       "10     1\n",
       "13     1\n",
       "Name: count, dtype: int64"
      ]
     },
     "execution_count": 60,
     "metadata": {},
     "output_type": "execute_result"
    }
   ],
   "source": [
    "y.value_counts()"
   ]
  },
  {
   "cell_type": "code",
   "execution_count": 61,
   "metadata": {},
   "outputs": [
    {
     "data": {
      "text/plain": [
       "Category Two Defects\n",
       "0     74\n",
       "2     36\n",
       "1     33\n",
       "3     16\n",
       "5     13\n",
       "4     13\n",
       "7      5\n",
       "8      4\n",
       "12     3\n",
       "11     3\n",
       "9      2\n",
       "Name: count, dtype: int64"
      ]
     },
     "execution_count": 61,
     "metadata": {},
     "output_type": "execute_result"
    }
   ],
   "source": [
    "data_new =data[(data['Category Two Defects']!=16)&(data['Category Two Defects']!=10)&(data['Category Two Defects']!=13)]\n",
    "\n",
    "X = data_new.drop(['Category Two Defects'], axis =1)\n",
    "y = data_new['Category Two Defects']\n",
    "\n",
    "y.value_counts()"
   ]
  },
  {
   "cell_type": "code",
   "execution_count": 62,
   "metadata": {},
   "outputs": [
    {
     "data": {
      "text/plain": [
       "Category Two Defects\n",
       "3     74\n",
       "0     74\n",
       "2     74\n",
       "1     74\n",
       "5     74\n",
       "4     74\n",
       "9     74\n",
       "7     74\n",
       "12    74\n",
       "11    74\n",
       "8     74\n",
       "Name: count, dtype: int64"
      ]
     },
     "execution_count": 62,
     "metadata": {},
     "output_type": "execute_result"
    }
   ],
   "source": [
    "smote = SMOTE(sampling_strategy= 'minority',k_neighbors=1)\n",
    "X_sm , y_sm = smote.fit_resample(X,y)\n",
    "y_sm.value_counts() \n",
    "for i in range(9):\n",
    "    smote = SMOTE(sampling_strategy= 'minority',k_neighbors=1)\n",
    "    X_sm , y_sm = smote.fit_resample(X_sm,y_sm)\n",
    "y_sm.value_counts()"
   ]
  },
  {
   "cell_type": "code",
   "execution_count": 63,
   "metadata": {},
   "outputs": [],
   "source": [
    "from sklearn.model_selection import train_test_split\n",
    "\n",
    "X_train , X_test , y_train ,y_test = train_test_split(X_sm, y_sm , test_size=0.2, random_state=23)"
   ]
  },
  {
   "cell_type": "code",
   "execution_count": 64,
   "metadata": {},
   "outputs": [
    {
     "data": {
      "text/plain": [
       "0.8711656441717791"
      ]
     },
     "execution_count": 64,
     "metadata": {},
     "output_type": "execute_result"
    }
   ],
   "source": [
    "model = RandomForestClassifier(n_estimators=150, random_state=23)\n",
    "\n",
    "model.fit(X_train , y_train)\n",
    "\n",
    "model.score(X_test , y_test)"
   ]
  },
  {
   "cell_type": "code",
   "execution_count": 65,
   "metadata": {},
   "outputs": [],
   "source": [
    "# Code snippet to reorder columns if necessary\n",
    "input_df = X_test[['Aroma', 'Flavor', 'Aftertaste', 'Acidity', 'Body', 'Balance',\n",
    "                   'Uniformity', 'Overall', 'Moisture Percentage', 'Quakers',\n",
    "                   'Country of Origin Label', 'Altitude Label', 'Region Label',\n",
    "                   'Variety Label', 'Processing Method Label', 'Color Label']]\n",
    "\n",
    "# Now you can make predictions using the model\n",
    "predictions = model.predict(input_df)\n",
    "\n",
    "# Rest of your code for evaluation and visualization\n"
   ]
  },
  {
   "cell_type": "code",
   "execution_count": 66,
   "metadata": {},
   "outputs": [],
   "source": [
    "predictions = model.predict(X_test)"
   ]
  },
  {
   "cell_type": "code",
   "execution_count": 67,
   "metadata": {},
   "outputs": [
    {
     "data": {
      "text/plain": [
       "array([ 3,  1,  7,  3,  5, 11,  7,  2,  8,  0,  2, 11,  2,  5,  0,  3,  9,\n",
       "        2,  4,  1,  5,  9,  7,  9,  8,  7,  2,  2,  5, 11,  1, 11, 12,  3,\n",
       "       12,  3,  5,  3, 12,  4,  8,  5,  3,  4,  2,  2,  8,  1, 11,  2,  4,\n",
       "        2, 11,  9,  3,  0,  4,  5,  0, 12, 12,  8,  4, 11,  8,  1,  4,  8,\n",
       "        2,  2,  5,  0,  1,  1,  9,  2,  8,  0,  7,  4,  9,  1, 11,  3,  5,\n",
       "        9,  5, 12,  2, 11, 11,  7,  3,  9,  4, 11,  7,  8,  7,  9,  9,  7,\n",
       "        9,  0, 12,  0,  4,  9,  7,  8,  1, 12,  3,  0,  2, 12,  7,  3,  9,\n",
       "        3,  5,  7,  2,  0,  8,  1,  9,  5,  3, 12,  9,  5,  7,  5,  2,  0,\n",
       "        0,  8,  1,  1,  5,  5,  1,  3,  2,  1,  5, 12,  8,  8,  7,  0,  0,\n",
       "        5,  3,  8,  1,  4,  7, 11,  4,  7,  8], dtype=int64)"
      ]
     },
     "execution_count": 67,
     "metadata": {},
     "output_type": "execute_result"
    }
   ],
   "source": [
    "predictions"
   ]
  },
  {
   "cell_type": "code",
   "execution_count": 68,
   "metadata": {},
   "outputs": [
    {
     "name": "stdout",
     "output_type": "stream",
     "text": [
      "\n",
      "\n",
      " Classification Report    : \n",
      "\n",
      "               precision    recall  f1-score   support\n",
      "\n",
      "           0       0.57      0.67      0.62        12\n",
      "           1       0.80      0.63      0.71        19\n",
      "           2       0.67      0.75      0.71        16\n",
      "           3       0.88      0.88      0.88        16\n",
      "           4       1.00      0.86      0.92        14\n",
      "           5       0.94      0.89      0.92        19\n",
      "           7       0.88      1.00      0.93        14\n",
      "           8       0.94      1.00      0.97        15\n",
      "           9       1.00      1.00      1.00        15\n",
      "          11       1.00      1.00      1.00        12\n",
      "          12       1.00      1.00      1.00        11\n",
      "\n",
      "    accuracy                           0.87       163\n",
      "   macro avg       0.88      0.88      0.88       163\n",
      "weighted avg       0.88      0.87      0.87       163\n",
      "\n"
     ]
    }
   ],
   "source": [
    "print(\"\\n\\n Classification Report    : \\n\\n\", classification_report(y_test,predictions))"
   ]
  },
  {
   "cell_type": "code",
   "execution_count": 69,
   "metadata": {},
   "outputs": [
    {
     "name": "stdout",
     "output_type": "stream",
     "text": [
      "Accuracy of Model:: 0.8711656441717791\n"
     ]
    }
   ],
   "source": [
    "print(\"Accuracy of Model::\", model.score(X_test, y_test))"
   ]
  },
  {
   "cell_type": "code",
   "execution_count": 70,
   "metadata": {},
   "outputs": [
    {
     "data": {
      "text/plain": [
       "<sklearn.metrics._plot.confusion_matrix.ConfusionMatrixDisplay at 0x1e64dd63bc0>"
      ]
     },
     "execution_count": 70,
     "metadata": {},
     "output_type": "execute_result"
    },
    {
     "data": {
      "image/png": "[encoded data removed]",
      "text/plain": [
       "<Figure size 640x480 with 2 Axes>"
      ]
     },
     "metadata": {},
     "output_type": "display_data"
    }
   ],
   "source": [
    "from sklearn.metrics import confusion_matrix,ConfusionMatrixDisplay\n",
    "\n",
    "cm = confusion_matrix(y_test,predictions)\n",
    "\n",
    "cm_obj = ConfusionMatrixDisplay(cm, display_labels=['0','1','2','3','4','5','7','8','9','11','12'])\n",
    "\n",
    "cm_obj.plot()"
   ]
  },
  {
   "cell_type": "code",
   "execution_count": 71,
   "metadata": {},
   "outputs": [],
   "source": [
    "import pickle\n",
    "pickle.dump(model, open('Coffee_Quality_Model.pkl', 'wb'))"
   ]
  },
  {
   "cell_type": "markdown",
   "metadata": {},
   "source": []
  },
  {
   "cell_type": "code",
   "execution_count": 72,
   "metadata": {},
   "outputs": [
    {
     "data": {
      "text/plain": [
       "Index(['Aroma', 'Flavor', 'Aftertaste', 'Acidity', 'Body', 'Balance',\n",
       "       'Uniformity', 'Overall', 'Moisture Percentage', 'Quakers',\n",
       "       'Country of Origin Label', 'Altitude Label', 'Region Label',\n",
       "       'Variety Label', 'Processing Method Label', 'Color Label'],\n",
       "      dtype='object')"
      ]
     },
     "execution_count": 72,
     "metadata": {},
     "output_type": "execute_result"
    }
   ],
   "source": [
    "X_train.columns"
   ]
  },
  {
   "cell_type": "code",
   "execution_count": 73,
   "metadata": {},
   "outputs": [
    {
     "name": "stdout",
     "output_type": "stream",
     "text": [
      "{0: 'green', 1: 'blue-green', 2: 'yellowish', 3: 'yellow-green', 4: 'yellow green', 5: 'greenish', 6: 'brownish', 7: 'yellow- green', 8: 'browish-green', 9: 'bluish-green', 10: 'pale yellow', 11: 'yello-green'}\n"
     ]
    }
   ],
   "source": [
    "# Reversing the Region_Dict dictionary to map encoded region values to countries\n",
    "encoded_region_to_country = {v: k for k, v in Color_Dict.items()}\n",
    "\n",
    "# Print the mapping from encoded region values to countries\n",
    "print(encoded_region_to_country)"
   ]
  },
  {
   "cell_type": "code",
   "execution_count": 74,
   "metadata": {},
   "outputs": [
    {
     "name": "stdout",
     "output_type": "stream",
     "text": [
      "7\n"
     ]
    }
   ],
   "source": [
    "prediction = model.predict([[0, 100, 0, 0, 0, 100, 100, 100, 100, 100, 100, 100, 100, 100, 100, 0]])\n",
    "value = prediction[0]\n",
    "print(value)"
   ]
  }
 ],
 "metadata": {
  "kernelspec": {
   "display_name": "tensorflow",
   "language": "python",
   "name": "python3"
  },
  "language_info": {
   "codemirror_mode": {
    "name": "ipython",
    "version": 3
   },
   "file_extension": ".py",
   "mimetype": "text/x-python",
   "name": "python",
   "nbconvert_exporter": "python",
   "pygments_lexer": "ipython3",
   "version": "3.12.3"
  },
  "orig_nbformat": 4
 },
 "nbformat": 4,
 "nbformat_minor": 2
}
