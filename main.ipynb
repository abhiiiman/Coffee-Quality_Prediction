{
 "cells": [
  {
   "cell_type": "code",
   "execution_count": 197,
   "metadata": {},
   "outputs": [],
   "source": [
    "import numpy as np \n",
    "import pandas as pd \n",
    "import seaborn as sns\n",
    "import matplotlib.pyplot as plt\n",
    "from imblearn.over_sampling import SMOTE\n",
    "from sklearn.model_selection import train_test_split\n",
    "from sklearn.metrics import classification_report\n",
    "from sklearn.metrics import confusion_matrix,ConfusionMatrixDisplay\n",
    "from sklearn.ensemble import RandomForestClassifier\n",
    "from sklearn.metrics import classification_report\n"
   ]
  },
  {
   "cell_type": "code",
   "execution_count": 198,
   "metadata": {},
   "outputs": [
    {
     "data": {
      "text/plain": [
       "Index(['Unnamed: 0', 'ID', 'Country of Origin', 'Farm Name', 'Lot Number',\n",
       "       'Mill', 'ICO Number', 'Company', 'Altitude', 'Region', 'Producer',\n",
       "       'Number of Bags', 'Bag Weight', 'In-Country Partner', 'Harvest Year',\n",
       "       'Grading Date', 'Owner', 'Variety', 'Status', 'Processing Method',\n",
       "       'Aroma', 'Flavor', 'Aftertaste', 'Acidity', 'Body', 'Balance',\n",
       "       'Uniformity', 'Clean Cup', 'Sweetness', 'Overall', 'Defects',\n",
       "       'Total Cup Points', 'Moisture Percentage', 'Category One Defects',\n",
       "       'Quakers', 'Color', 'Category Two Defects', 'Expiration',\n",
       "       'Certification Body', 'Certification Address', 'Certification Contact'],\n",
       "      dtype='object')"
      ]
     },
     "execution_count": 198,
     "metadata": {},
     "output_type": "execute_result"
    }
   ],
   "source": [
    "df = pd.read_csv(\"df_arabica_clean (1).csv\")\n",
    "data = df.copy()\n",
    "data.head(2)\n",
    "data.columns"
   ]
  },
  {
   "cell_type": "code",
   "execution_count": 199,
   "metadata": {},
   "outputs": [
    {
     "data": {
      "text/html": [
       "<div>\n",
       "<style scoped>\n",
       "    .dataframe tbody tr th:only-of-type {\n",
       "        vertical-align: middle;\n",
       "    }\n",
       "\n",
       "    .dataframe tbody tr th {\n",
       "        vertical-align: top;\n",
       "    }\n",
       "\n",
       "    .dataframe thead th {\n",
       "        text-align: right;\n",
       "    }\n",
       "</style>\n",
       "<table border=\"1\" class=\"dataframe\">\n",
       "  <thead>\n",
       "    <tr style=\"text-align: right;\">\n",
       "      <th></th>\n",
       "      <th>Aroma</th>\n",
       "      <th>Flavor</th>\n",
       "      <th>Aftertaste</th>\n",
       "      <th>Acidity</th>\n",
       "      <th>Body</th>\n",
       "      <th>Balance</th>\n",
       "      <th>Uniformity</th>\n",
       "      <th>Overall</th>\n",
       "      <th>Moisture Percentage</th>\n",
       "      <th>Category Two Defects</th>\n",
       "      <th>Quakers</th>\n",
       "    </tr>\n",
       "  </thead>\n",
       "  <tbody>\n",
       "    <tr>\n",
       "      <th>count</th>\n",
       "      <td>207.000000</td>\n",
       "      <td>207.000000</td>\n",
       "      <td>207.000000</td>\n",
       "      <td>207.00000</td>\n",
       "      <td>207.000000</td>\n",
       "      <td>207.000000</td>\n",
       "      <td>207.000000</td>\n",
       "      <td>207.000000</td>\n",
       "      <td>207.000000</td>\n",
       "      <td>207.000000</td>\n",
       "      <td>207.000000</td>\n",
       "    </tr>\n",
       "    <tr>\n",
       "      <th>mean</th>\n",
       "      <td>7.721063</td>\n",
       "      <td>7.744734</td>\n",
       "      <td>7.599758</td>\n",
       "      <td>7.69029</td>\n",
       "      <td>7.640918</td>\n",
       "      <td>7.644058</td>\n",
       "      <td>9.990338</td>\n",
       "      <td>7.676812</td>\n",
       "      <td>10.735266</td>\n",
       "      <td>2.251208</td>\n",
       "      <td>0.690821</td>\n",
       "    </tr>\n",
       "    <tr>\n",
       "      <th>std</th>\n",
       "      <td>0.287626</td>\n",
       "      <td>0.279613</td>\n",
       "      <td>0.275911</td>\n",
       "      <td>0.25951</td>\n",
       "      <td>0.233499</td>\n",
       "      <td>0.256299</td>\n",
       "      <td>0.103306</td>\n",
       "      <td>0.306359</td>\n",
       "      <td>1.247468</td>\n",
       "      <td>2.950183</td>\n",
       "      <td>1.686918</td>\n",
       "    </tr>\n",
       "    <tr>\n",
       "      <th>min</th>\n",
       "      <td>6.500000</td>\n",
       "      <td>6.750000</td>\n",
       "      <td>6.670000</td>\n",
       "      <td>6.83000</td>\n",
       "      <td>6.830000</td>\n",
       "      <td>6.670000</td>\n",
       "      <td>8.670000</td>\n",
       "      <td>6.670000</td>\n",
       "      <td>0.000000</td>\n",
       "      <td>0.000000</td>\n",
       "      <td>0.000000</td>\n",
       "    </tr>\n",
       "    <tr>\n",
       "      <th>25%</th>\n",
       "      <td>7.580000</td>\n",
       "      <td>7.580000</td>\n",
       "      <td>7.420000</td>\n",
       "      <td>7.50000</td>\n",
       "      <td>7.500000</td>\n",
       "      <td>7.500000</td>\n",
       "      <td>10.000000</td>\n",
       "      <td>7.500000</td>\n",
       "      <td>10.100000</td>\n",
       "      <td>0.000000</td>\n",
       "      <td>0.000000</td>\n",
       "    </tr>\n",
       "    <tr>\n",
       "      <th>50%</th>\n",
       "      <td>7.670000</td>\n",
       "      <td>7.750000</td>\n",
       "      <td>7.580000</td>\n",
       "      <td>7.67000</td>\n",
       "      <td>7.670000</td>\n",
       "      <td>7.670000</td>\n",
       "      <td>10.000000</td>\n",
       "      <td>7.670000</td>\n",
       "      <td>10.800000</td>\n",
       "      <td>1.000000</td>\n",
       "      <td>0.000000</td>\n",
       "    </tr>\n",
       "    <tr>\n",
       "      <th>75%</th>\n",
       "      <td>7.920000</td>\n",
       "      <td>7.920000</td>\n",
       "      <td>7.750000</td>\n",
       "      <td>7.87500</td>\n",
       "      <td>7.750000</td>\n",
       "      <td>7.790000</td>\n",
       "      <td>10.000000</td>\n",
       "      <td>7.920000</td>\n",
       "      <td>11.500000</td>\n",
       "      <td>3.000000</td>\n",
       "      <td>1.000000</td>\n",
       "    </tr>\n",
       "    <tr>\n",
       "      <th>max</th>\n",
       "      <td>8.580000</td>\n",
       "      <td>8.500000</td>\n",
       "      <td>8.420000</td>\n",
       "      <td>8.58000</td>\n",
       "      <td>8.250000</td>\n",
       "      <td>8.420000</td>\n",
       "      <td>10.000000</td>\n",
       "      <td>8.580000</td>\n",
       "      <td>13.500000</td>\n",
       "      <td>16.000000</td>\n",
       "      <td>12.000000</td>\n",
       "    </tr>\n",
       "  </tbody>\n",
       "</table>\n",
       "</div>"
      ],
      "text/plain": [
       "            Aroma      Flavor  Aftertaste    Acidity        Body     Balance   \n",
       "count  207.000000  207.000000  207.000000  207.00000  207.000000  207.000000  \\\n",
       "mean     7.721063    7.744734    7.599758    7.69029    7.640918    7.644058   \n",
       "std      0.287626    0.279613    0.275911    0.25951    0.233499    0.256299   \n",
       "min      6.500000    6.750000    6.670000    6.83000    6.830000    6.670000   \n",
       "25%      7.580000    7.580000    7.420000    7.50000    7.500000    7.500000   \n",
       "50%      7.670000    7.750000    7.580000    7.67000    7.670000    7.670000   \n",
       "75%      7.920000    7.920000    7.750000    7.87500    7.750000    7.790000   \n",
       "max      8.580000    8.500000    8.420000    8.58000    8.250000    8.420000   \n",
       "\n",
       "       Uniformity     Overall  Moisture Percentage  Category Two Defects   \n",
       "count  207.000000  207.000000           207.000000            207.000000  \\\n",
       "mean     9.990338    7.676812            10.735266              2.251208   \n",
       "std      0.103306    0.306359             1.247468              2.950183   \n",
       "min      8.670000    6.670000             0.000000              0.000000   \n",
       "25%     10.000000    7.500000            10.100000              0.000000   \n",
       "50%     10.000000    7.670000            10.800000              1.000000   \n",
       "75%     10.000000    7.920000            11.500000              3.000000   \n",
       "max     10.000000    8.580000            13.500000             16.000000   \n",
       "\n",
       "          Quakers  \n",
       "count  207.000000  \n",
       "mean     0.690821  \n",
       "std      1.686918  \n",
       "min      0.000000  \n",
       "25%      0.000000  \n",
       "50%      0.000000  \n",
       "75%      1.000000  \n",
       "max     12.000000  "
      ]
     },
     "execution_count": 199,
     "metadata": {},
     "output_type": "execute_result"
    }
   ],
   "source": [
    "data = data[['Country of Origin', 'Altitude', 'Region',\n",
    "       'Variety', 'Processing Method',\n",
    "       'Aroma', 'Flavor', 'Aftertaste', 'Acidity', 'Body', 'Balance',\n",
    "       'Uniformity', 'Overall',\n",
    "       'Moisture Percentage', 'Category Two Defects',\n",
    "       'Quakers', 'Color']]\n",
    "# print(data.shape)\n",
    "# data.nunique()\n",
    "data.describe()"
   ]
  },
  {
   "cell_type": "code",
   "execution_count": 200,
   "metadata": {},
   "outputs": [
    {
     "data": {
      "text/plain": [
       "array(['Colombia', 'Taiwan', 'Laos', 'Costa Rica', 'Guatemala',\n",
       "       'Tanzania, United Republic Of', 'Ethiopia', 'Thailand', 'Brazil',\n",
       "       'United States (Hawaii)', 'Kenya', 'Uganda', 'Indonesia', 'Peru',\n",
       "       'Panama', 'Nicaragua', 'Vietnam', 'Honduras', 'El Salvador',\n",
       "       'Madagascar', 'Mexico', 'Myanmar'], dtype=object)"
      ]
     },
     "execution_count": 200,
     "metadata": {},
     "output_type": "execute_result"
    }
   ],
   "source": [
    "data['Country of Origin'].unique()"
   ]
  },
  {
   "cell_type": "code",
   "execution_count": 201,
   "metadata": {},
   "outputs": [],
   "source": [
    "Country_of_Origin_Dict = dict(zip(pd.Series(data['Country of Origin'].unique()),pd.Series([i for i in range(data['Country of Origin'].nunique())]) ))\n",
    "Altitude_Dict = dict(zip(pd.Series(data['Altitude'].unique()),pd.Series([i for i in range(data['Altitude'].nunique())]) ))\n",
    "Region_Dict = dict(zip(pd.Series(data['Region'].unique()),pd.Series([i for i in range(data['Region'].nunique())]) ))\n",
    "Variety_Dict = dict(zip(pd.Series(data['Variety'].unique()),pd.Series([i for i in range(data['Variety'].nunique())]) ))\n",
    "Processing_Method_Dict = dict(zip(pd.Series(data['Processing Method'].unique()),pd.Series([i for i in range(data['Processing Method'].nunique())]) ))\n",
    "Color_Dict = dict(zip(pd.Series(data['Color'].unique()),pd.Series([i for i in range(data['Color'].nunique())]) ))\n",
    "\n",
    "\n",
    "data['Country of Origin Label'] = data['Country of Origin'].map(Country_of_Origin_Dict)\n",
    "data['Altitude Label']=data['Altitude'].map(Altitude_Dict)\n",
    "data['Region Label'] =data['Region'].map(Region_Dict)\n",
    "data['Variety Label']=data['Variety'].map(Variety_Dict)\n",
    "data['Processing Method Label']=data['Processing Method'].map(Processing_Method_Dict)\n",
    "data['Color Label']= data['Color'].map(Color_Dict)\n",
    "\n",
    "\n",
    "data.drop(['Country of Origin','Altitude','Region','Variety','Processing Method','Color'], axis =1 ,inplace = True)"
   ]
  },
  {
   "cell_type": "code",
   "execution_count": 202,
   "metadata": {},
   "outputs": [
    {
     "data": {
      "text/plain": [
       "Aroma                      0\n",
       "Flavor                     0\n",
       "Aftertaste                 0\n",
       "Acidity                    0\n",
       "Body                       0\n",
       "Balance                    0\n",
       "Uniformity                 0\n",
       "Overall                    0\n",
       "Moisture Percentage        0\n",
       "Category Two Defects       0\n",
       "Quakers                    0\n",
       "Country of Origin Label    0\n",
       "Altitude Label             1\n",
       "Region Label               1\n",
       "Variety Label              1\n",
       "Processing Method Label    1\n",
       "Color Label                0\n",
       "dtype: int64"
      ]
     },
     "execution_count": 202,
     "metadata": {},
     "output_type": "execute_result"
    }
   ],
   "source": [
    "data.isna().sum()"
   ]
  },
  {
   "cell_type": "code",
   "execution_count": 203,
   "metadata": {},
   "outputs": [],
   "source": [
    "data.dropna(inplace = True)"
   ]
  },
  {
   "cell_type": "code",
   "execution_count": 204,
   "metadata": {},
   "outputs": [
    {
     "data": {
      "text/plain": [
       "Aroma                      0\n",
       "Flavor                     0\n",
       "Aftertaste                 0\n",
       "Acidity                    0\n",
       "Body                       0\n",
       "Balance                    0\n",
       "Uniformity                 0\n",
       "Overall                    0\n",
       "Moisture Percentage        0\n",
       "Category Two Defects       0\n",
       "Quakers                    0\n",
       "Country of Origin Label    0\n",
       "Altitude Label             0\n",
       "Region Label               0\n",
       "Variety Label              0\n",
       "Processing Method Label    0\n",
       "Color Label                0\n",
       "dtype: int64"
      ]
     },
     "execution_count": 204,
     "metadata": {},
     "output_type": "execute_result"
    }
   ],
   "source": [
    "data.isna().sum()"
   ]
  },
  {
   "cell_type": "code",
   "execution_count": 205,
   "metadata": {},
   "outputs": [],
   "source": [
    "X = df.drop(['Category Two Defects'], axis =1)\n",
    "y = df['Category Two Defects']"
   ]
  },
  {
   "cell_type": "code",
   "execution_count": 206,
   "metadata": {},
   "outputs": [
    {
     "data": {
      "text/plain": [
       "Category Two Defects\n",
       "0     74\n",
       "2     37\n",
       "1     34\n",
       "3     16\n",
       "5     13\n",
       "4     13\n",
       "7      5\n",
       "8      4\n",
       "12     3\n",
       "11     3\n",
       "9      2\n",
       "16     1\n",
       "10     1\n",
       "13     1\n",
       "Name: count, dtype: int64"
      ]
     },
     "execution_count": 206,
     "metadata": {},
     "output_type": "execute_result"
    }
   ],
   "source": [
    "y.value_counts()"
   ]
  },
  {
   "cell_type": "code",
   "execution_count": 207,
   "metadata": {},
   "outputs": [
    {
     "data": {
      "text/plain": [
       "Category Two Defects\n",
       "0     74\n",
       "2     36\n",
       "1     33\n",
       "3     16\n",
       "5     13\n",
       "4     13\n",
       "7      5\n",
       "8      4\n",
       "12     3\n",
       "11     3\n",
       "9      2\n",
       "Name: count, dtype: int64"
      ]
     },
     "execution_count": 207,
     "metadata": {},
     "output_type": "execute_result"
    }
   ],
   "source": [
    "data_new =data[(data['Category Two Defects']!=16)&(data['Category Two Defects']!=10)&(data['Category Two Defects']!=13)]\n",
    "\n",
    "X = data_new.drop(['Category Two Defects'], axis =1)\n",
    "y = data_new['Category Two Defects']\n",
    "\n",
    "y.value_counts()"
   ]
  },
  {
   "cell_type": "code",
   "execution_count": 208,
   "metadata": {},
   "outputs": [
    {
     "data": {
      "text/plain": [
       "Category Two Defects\n",
       "3     74\n",
       "0     74\n",
       "2     74\n",
       "1     74\n",
       "5     74\n",
       "4     74\n",
       "9     74\n",
       "7     74\n",
       "12    74\n",
       "11    74\n",
       "8     74\n",
       "Name: count, dtype: int64"
      ]
     },
     "execution_count": 208,
     "metadata": {},
     "output_type": "execute_result"
    }
   ],
   "source": [
    "smote = SMOTE(sampling_strategy= 'minority',k_neighbors=1)\n",
    "X_sm , y_sm = smote.fit_resample(X,y)\n",
    "y_sm.value_counts() \n",
    "for i in range(9):\n",
    "    smote = SMOTE(sampling_strategy= 'minority',k_neighbors=1)\n",
    "    X_sm , y_sm = smote.fit_resample(X_sm,y_sm)\n",
    "y_sm.value_counts()"
   ]
  },
  {
   "cell_type": "code",
   "execution_count": 209,
   "metadata": {},
   "outputs": [],
   "source": [
    "from sklearn.model_selection import train_test_split\n",
    "\n",
    "X_train , X_test , y_train ,y_test = train_test_split(X_sm, y_sm , test_size=0.2, random_state=23)"
   ]
  },
  {
   "cell_type": "code",
   "execution_count": 210,
   "metadata": {},
   "outputs": [
    {
     "data": {
      "text/plain": [
       "0.901840490797546"
      ]
     },
     "execution_count": 210,
     "metadata": {},
     "output_type": "execute_result"
    }
   ],
   "source": [
    "model = RandomForestClassifier(n_estimators=150, random_state=23)\n",
    "\n",
    "model.fit(X_train , y_train)\n",
    "\n",
    "model.score(X_test , y_test)"
   ]
  },
  {
   "cell_type": "code",
   "execution_count": 212,
   "metadata": {},
   "outputs": [],
   "source": [
    "predictions = model.predict(X_test)"
   ]
  },
  {
   "cell_type": "code",
   "execution_count": 213,
   "metadata": {},
   "outputs": [
    {
     "data": {
      "text/plain": [
       "array([ 3,  1,  7,  3,  5, 11,  7,  2,  8,  1,  2, 11,  2,  5,  0,  2,  9,\n",
       "        2,  4,  1,  5,  9,  7,  9,  8,  7,  2,  2,  5, 11,  1, 11, 12,  3,\n",
       "       12,  3,  5,  2, 12,  4,  8,  5,  3,  2,  2,  0,  8,  1, 11,  2,  4,\n",
       "        2, 11,  9,  2,  0,  4,  5,  0, 12, 12,  8,  4, 11,  8,  1,  4,  8,\n",
       "        0,  1,  5,  0,  1,  0,  9,  2,  8,  1,  7,  4,  9,  1, 11,  3,  5,\n",
       "        9,  5, 12,  2, 11, 11,  7,  3,  9,  4, 11,  7,  8,  7,  9,  9,  7,\n",
       "        9,  0, 12,  0,  4,  9,  7,  8,  1, 12,  3,  0,  3, 12,  1,  2,  9,\n",
       "        3,  5,  7,  2,  0,  8,  1,  9,  5,  3, 12,  9,  5,  7,  5,  2,  0,\n",
       "        1,  8,  1,  1,  5,  5,  1,  3,  2,  2,  5, 12,  8,  8,  3,  0,  1,\n",
       "        5,  3,  8,  1,  4,  7, 11,  4,  7,  8])"
      ]
     },
     "execution_count": 213,
     "metadata": {},
     "output_type": "execute_result"
    }
   ],
   "source": [
    "predictions"
   ]
  },
  {
   "cell_type": "code",
   "execution_count": 214,
   "metadata": {},
   "outputs": [
    {
     "name": "stdout",
     "output_type": "stream",
     "text": [
      "\n",
      "\n",
      " Classification Report    : \n",
      "\n",
      "               precision    recall  f1-score   support\n",
      "\n",
      "           0       0.69      0.75      0.72        12\n",
      "           1       0.95      0.95      0.95        19\n",
      "           2       0.60      0.75      0.67        16\n",
      "           3       0.93      0.81      0.87        16\n",
      "           4       1.00      0.79      0.88        14\n",
      "           5       0.94      0.89      0.92        19\n",
      "           7       1.00      1.00      1.00        14\n",
      "           8       0.94      1.00      0.97        15\n",
      "           9       1.00      1.00      1.00        15\n",
      "          11       1.00      1.00      1.00        12\n",
      "          12       1.00      1.00      1.00        11\n",
      "\n",
      "    accuracy                           0.90       163\n",
      "   macro avg       0.91      0.90      0.91       163\n",
      "weighted avg       0.91      0.90      0.90       163\n",
      "\n"
     ]
    }
   ],
   "source": [
    "print(\"\\n\\n Classification Report    : \\n\\n\", classification_report(y_test,predictions))"
   ]
  },
  {
   "cell_type": "code",
   "execution_count": 215,
   "metadata": {},
   "outputs": [
    {
     "name": "stdout",
     "output_type": "stream",
     "text": [
      "Accuracy of Model:: 0.901840490797546\n"
     ]
    }
   ],
   "source": [
    "print(\"Accuracy of Model::\", model.score(X_test, y_test))"
   ]
  },
  {
   "cell_type": "code",
   "execution_count": 216,
   "metadata": {},
   "outputs": [
    {
     "data": {
      "text/plain": [
       "<sklearn.metrics._plot.confusion_matrix.ConfusionMatrixDisplay at 0x28a1c3430>"
      ]
     },
     "execution_count": 216,
     "metadata": {},
     "output_type": "execute_result"
    },
    {
     "data": {
      "image/png": "[encoded data removed]",
      "text/plain": [
       "<Figure size 640x480 with 2 Axes>"
      ]
     },
     "metadata": {},
     "output_type": "display_data"
    }
   ],
   "source": [
    "from sklearn.metrics import confusion_matrix,ConfusionMatrixDisplay\n",
    "\n",
    "cm = confusion_matrix(y_test,predictions)\n",
    "\n",
    "cm_obj = ConfusionMatrixDisplay(cm, display_labels=['0','1','2','3','4','5','7','8','9','11','12'])\n",
    "\n",
    "cm_obj.plot()"
   ]
  }
 ],
 "metadata": {
  "kernelspec": {
   "display_name": "tensorflow",
   "language": "python",
   "name": "python3"
  },
  "language_info": {
   "codemirror_mode": {
    "name": "ipython",
    "version": 3
   },
   "file_extension": ".py",
   "mimetype": "text/x-python",
   "name": "python",
   "nbconvert_exporter": "python",
   "pygments_lexer": "ipython3",
   "version": "3.10.10"
  },
  "orig_nbformat": 4
 },
 "nbformat": 4,
 "nbformat_minor": 2
}
